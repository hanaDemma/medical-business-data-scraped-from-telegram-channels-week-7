{
 "cells": [
  {
   "cell_type": "code",
   "execution_count": 1,
   "metadata": {},
   "outputs": [],
   "source": [
    "import pandas as pd\n",
    "import logging\n",
    "import os\n",
    "import sys\n",
    "sys.path.append('../')\n",
    "\n",
    "from dotenv import load_dotenv\n",
    "load_dotenv()\n",
    "\n",
    "import sys\n",
    "sys.path.append('../')"
   ]
  },
  {
   "cell_type": "markdown",
   "metadata": {},
   "source": [
    "> # Creating a data warehouse for Ethiopian medical business data scraped from Telegram channels"
   ]
  },
  {
   "cell_type": "markdown",
   "metadata": {},
   "source": [
    "> # Telegram Access keys"
   ]
  },
  {
   "cell_type": "code",
   "execution_count": 2,
   "metadata": {},
   "outputs": [],
   "source": [
    "api_id = os.getenv('TELEGRAM_API_ID')\n",
    "api_hash = os.getenv('TELEGRAM_API_HASH')\n",
    "phone = os.getenv('TELEGRAM_PHONE')"
   ]
  },
  {
   "cell_type": "code",
   "execution_count": 3,
   "metadata": {},
   "outputs": [],
   "source": [
    "\n",
    "logging.basicConfig(filename='../logs/scraping.log', level=logging.INFO, \n",
    "                    format='%(asctime)s:%(levelname)s:%(message)s')\n",
    "\n",
    "RAW_DATA_PATH = '../docs/raw/'\n",
    "IMAGE_DATA_PATH = '../docs/images/'"
   ]
  },
  {
   "cell_type": "markdown",
   "metadata": {},
   "source": [
    "> # Scrapping"
   ]
  },
  {
   "cell_type": "code",
   "execution_count": 4,
   "metadata": {},
   "outputs": [],
   "source": [
    "import asyncio\n",
    "from scripts.scrapping import scrapping\n",
    "async def main():\n",
    "    await scrapping(logging, api_id, api_hash, RAW_DATA_PATH, IMAGE_DATA_PATH)\n",
    "\n",
    "await main()\n"
   ]
  },
  {
   "cell_type": "markdown",
   "metadata": {},
   "source": [
    ">> ## Scrapped Data"
   ]
  },
  {
   "cell_type": "code",
   "execution_count": 5,
   "metadata": {},
   "outputs": [
    {
     "data": {
      "text/html": [
       "<div>\n",
       "<style scoped>\n",
       "    .dataframe tbody tr th:only-of-type {\n",
       "        vertical-align: middle;\n",
       "    }\n",
       "\n",
       "    .dataframe tbody tr th {\n",
       "        vertical-align: top;\n",
       "    }\n",
       "\n",
       "    .dataframe thead th {\n",
       "        text-align: right;\n",
       "    }\n",
       "</style>\n",
       "<table border=\"1\" class=\"dataframe\">\n",
       "  <thead>\n",
       "    <tr style=\"text-align: right;\">\n",
       "      <th></th>\n",
       "      <th>channel_name</th>\n",
       "      <th>message_id</th>\n",
       "      <th>date</th>\n",
       "      <th>text</th>\n",
       "      <th>image_path</th>\n",
       "    </tr>\n",
       "  </thead>\n",
       "  <tbody>\n",
       "    <tr>\n",
       "      <th>10</th>\n",
       "      <td>CheMed123</td>\n",
       "      <td>97</td>\n",
       "      <td>2023-02-10 12:23:06</td>\n",
       "      <td>⚠️**Notice!\\r\\n**Dear esteemed customers,\\r\\nD...</td>\n",
       "      <td>../docs/images\\photo_2025-01-31_09-39-51.jpg</td>\n",
       "    </tr>\n",
       "    <tr>\n",
       "      <th>11</th>\n",
       "      <td>CheMed123</td>\n",
       "      <td>96</td>\n",
       "      <td>2023-02-02 08:58:52</td>\n",
       "      <td>Mela-One በውስጡ ሆርሞን ያለው ድንገተኛ ወሊድ መቆጣጠርያ ሲሆን ያለ...</td>\n",
       "      <td>../docs/images\\photo_2025-01-31_09-39-52.jpg</td>\n",
       "    </tr>\n",
       "    <tr>\n",
       "      <th>12</th>\n",
       "      <td>CheMed123</td>\n",
       "      <td>95</td>\n",
       "      <td>2023-02-01 08:59:37</td>\n",
       "      <td>**አዚትሮማይሲን** በሃኪም መድሃኒት ማዘዣ ከሚታዘዙ አንቲባዮቲኮች አንዱ...</td>\n",
       "      <td>../docs/images\\photo_2025-01-31_09-39-52 (1).jpg</td>\n",
       "    </tr>\n",
       "    <tr>\n",
       "      <th>13</th>\n",
       "      <td>CheMed123</td>\n",
       "      <td>94</td>\n",
       "      <td>2023-01-31 09:19:53</td>\n",
       "      <td>**Che-Med Trivia #3\\r\\n\\r\\n**ምግብና መጠጦች አንዳንድ መ...</td>\n",
       "      <td>../docs/images\\photo_2025-01-31_09-39-53.jpg</td>\n",
       "    </tr>\n",
       "    <tr>\n",
       "      <th>14</th>\n",
       "      <td>CheMed123</td>\n",
       "      <td>93</td>\n",
       "      <td>2023-01-30 09:45:25</td>\n",
       "      <td>**Che-Med Trivia #2\\r\\n\\r\\n**እንደ Ciprofloxacin...</td>\n",
       "      <td>../docs/images\\photo_2025-01-31_09-39-53 (1).jpg</td>\n",
       "    </tr>\n",
       "  </tbody>\n",
       "</table>\n",
       "</div>"
      ],
      "text/plain": [
       "   channel_name  message_id                 date  \\\n",
       "10    CheMed123          97  2023-02-10 12:23:06   \n",
       "11    CheMed123          96  2023-02-02 08:58:52   \n",
       "12    CheMed123          95  2023-02-01 08:59:37   \n",
       "13    CheMed123          94  2023-01-31 09:19:53   \n",
       "14    CheMed123          93  2023-01-30 09:45:25   \n",
       "\n",
       "                                                 text  \\\n",
       "10  ⚠️**Notice!\\r\\n**Dear esteemed customers,\\r\\nD...   \n",
       "11  Mela-One በውስጡ ሆርሞን ያለው ድንገተኛ ወሊድ መቆጣጠርያ ሲሆን ያለ...   \n",
       "12  **አዚትሮማይሲን** በሃኪም መድሃኒት ማዘዣ ከሚታዘዙ አንቲባዮቲኮች አንዱ...   \n",
       "13  **Che-Med Trivia #3\\r\\n\\r\\n**ምግብና መጠጦች አንዳንድ መ...   \n",
       "14  **Che-Med Trivia #2\\r\\n\\r\\n**እንደ Ciprofloxacin...   \n",
       "\n",
       "                                          image_path  \n",
       "10      ../docs/images\\photo_2025-01-31_09-39-51.jpg  \n",
       "11      ../docs/images\\photo_2025-01-31_09-39-52.jpg  \n",
       "12  ../docs/images\\photo_2025-01-31_09-39-52 (1).jpg  \n",
       "13      ../docs/images\\photo_2025-01-31_09-39-53.jpg  \n",
       "14  ../docs/images\\photo_2025-01-31_09-39-53 (1).jpg  "
      ]
     },
     "execution_count": 5,
     "metadata": {},
     "output_type": "execute_result"
    }
   ],
   "source": [
    "data = pd.read_csv('../docs/raw/all_scraped_messages.csv')\n",
    "data[data['channel_name']=='CheMed123'].head()"
   ]
  },
  {
   "cell_type": "markdown",
   "metadata": {},
   "source": [
    "> # Clean and Standardize Data"
   ]
  },
  {
   "cell_type": "code",
   "execution_count": 6,
   "metadata": {},
   "outputs": [],
   "source": [
    "# Now import the modules\n",
    "from scripts.data_cleaning import load_csv,clean_text,clean_dataframe,save_cleaned_data\n",
    "\n"
   ]
  },
  {
   "cell_type": "code",
   "execution_count": 7,
   "metadata": {},
   "outputs": [
    {
     "data": {
      "text/html": [
       "<div>\n",
       "<style scoped>\n",
       "    .dataframe tbody tr th:only-of-type {\n",
       "        vertical-align: middle;\n",
       "    }\n",
       "\n",
       "    .dataframe tbody tr th {\n",
       "        vertical-align: top;\n",
       "    }\n",
       "\n",
       "    .dataframe thead th {\n",
       "        text-align: right;\n",
       "    }\n",
       "</style>\n",
       "<table border=\"1\" class=\"dataframe\">\n",
       "  <thead>\n",
       "    <tr style=\"text-align: right;\">\n",
       "      <th></th>\n",
       "      <th>channel_name</th>\n",
       "      <th>message_id</th>\n",
       "      <th>date</th>\n",
       "      <th>text</th>\n",
       "      <th>image_path</th>\n",
       "    </tr>\n",
       "  </thead>\n",
       "  <tbody>\n",
       "    <tr>\n",
       "      <th>0</th>\n",
       "      <td>DoctorsET</td>\n",
       "      <td>864</td>\n",
       "      <td>2023-12-18 17:04:02</td>\n",
       "      <td>https://youtu.be/5DBoEm-8kmA?si=LDLuEecNfULJVD...</td>\n",
       "      <td>NaN</td>\n",
       "    </tr>\n",
       "    <tr>\n",
       "      <th>1</th>\n",
       "      <td>DoctorsET</td>\n",
       "      <td>863</td>\n",
       "      <td>2023-11-03 16:14:39</td>\n",
       "      <td>ዶክተርስ ኢትዮጵያ በ አዲስ አቀራረብ በ ቴሌቪዥን ፕሮግራሙን ለመጀመር ከ...</td>\n",
       "      <td>NaN</td>\n",
       "    </tr>\n",
       "    <tr>\n",
       "      <th>2</th>\n",
       "      <td>DoctorsET</td>\n",
       "      <td>862</td>\n",
       "      <td>2023-10-02 16:37:39</td>\n",
       "      <td>ሞት በስኳር \\r\\n\\r\\nለልጆቻችን የምናሲዘው ምሳቃ ሳናቀው እድሚያቸውን...</td>\n",
       "      <td>NaN</td>\n",
       "    </tr>\n",
       "    <tr>\n",
       "      <th>3</th>\n",
       "      <td>DoctorsET</td>\n",
       "      <td>861</td>\n",
       "      <td>2023-09-16 07:54:32</td>\n",
       "      <td>ከ HIV የተፈወሰ ሰው አጋጥሟችሁ ያቃል ? ፈውስ እና ህክምና ?\\r\\n\\...</td>\n",
       "      <td>NaN</td>\n",
       "    </tr>\n",
       "    <tr>\n",
       "      <th>4</th>\n",
       "      <td>DoctorsET</td>\n",
       "      <td>860</td>\n",
       "      <td>2023-09-01 16:16:15</td>\n",
       "      <td>በቅርብ ጊዜ በሃገራችን ላይ እየተስተዋለ ያለ የተመሳሳይ ፆታ ( Homos...</td>\n",
       "      <td>NaN</td>\n",
       "    </tr>\n",
       "    <tr>\n",
       "      <th>5</th>\n",
       "      <td>DoctorsET</td>\n",
       "      <td>859</td>\n",
       "      <td>2023-08-29 17:20:05</td>\n",
       "      <td>👇👇👇👇👇👇 https://youtu.be/-AR1KO2DbFw?si=47cXLZt...</td>\n",
       "      <td>NaN</td>\n",
       "    </tr>\n",
       "    <tr>\n",
       "      <th>6</th>\n",
       "      <td>DoctorsET</td>\n",
       "      <td>848</td>\n",
       "      <td>2022-08-02 17:42:08</td>\n",
       "      <td>ክረምቱን ስፖርት መስራት አስበው ጂም ለመግባት ካልቻሉ ባሉበት ቦታ ሆነው...</td>\n",
       "      <td>NaN</td>\n",
       "    </tr>\n",
       "    <tr>\n",
       "      <th>7</th>\n",
       "      <td>DoctorsET</td>\n",
       "      <td>847</td>\n",
       "      <td>2022-06-12 17:15:47</td>\n",
       "      <td>ስፖርት የመስራት ሱስ ይኖር ይሆን?\\r\\n\\r\\nበአሁኑ ወቅት ብዙ የስፖር...</td>\n",
       "      <td>NaN</td>\n",
       "    </tr>\n",
       "    <tr>\n",
       "      <th>8</th>\n",
       "      <td>DoctorsET</td>\n",
       "      <td>846</td>\n",
       "      <td>2022-05-31 17:51:13</td>\n",
       "      <td>ድንገተኛ አደጋ / የአጥንት ስብራት\\r\\n\\r\\nአያርገውና ድንገተኛ የሆነ...</td>\n",
       "      <td>NaN</td>\n",
       "    </tr>\n",
       "    <tr>\n",
       "      <th>9</th>\n",
       "      <td>DoctorsET</td>\n",
       "      <td>845</td>\n",
       "      <td>2022-05-20 18:04:53</td>\n",
       "      <td>ከትንሽ ግዚያት በፊት ስፖርት መስራት እንደ ቅንጦት ይታይ ነበር አሁን ላ...</td>\n",
       "      <td>NaN</td>\n",
       "    </tr>\n",
       "  </tbody>\n",
       "</table>\n",
       "</div>"
      ],
      "text/plain": [
       "  channel_name  message_id                 date  \\\n",
       "0    DoctorsET         864  2023-12-18 17:04:02   \n",
       "1    DoctorsET         863  2023-11-03 16:14:39   \n",
       "2    DoctorsET         862  2023-10-02 16:37:39   \n",
       "3    DoctorsET         861  2023-09-16 07:54:32   \n",
       "4    DoctorsET         860  2023-09-01 16:16:15   \n",
       "5    DoctorsET         859  2023-08-29 17:20:05   \n",
       "6    DoctorsET         848  2022-08-02 17:42:08   \n",
       "7    DoctorsET         847  2022-06-12 17:15:47   \n",
       "8    DoctorsET         846  2022-05-31 17:51:13   \n",
       "9    DoctorsET         845  2022-05-20 18:04:53   \n",
       "\n",
       "                                                text image_path  \n",
       "0  https://youtu.be/5DBoEm-8kmA?si=LDLuEecNfULJVD...        NaN  \n",
       "1  ዶክተርስ ኢትዮጵያ በ አዲስ አቀራረብ በ ቴሌቪዥን ፕሮግራሙን ለመጀመር ከ...        NaN  \n",
       "2  ሞት በስኳር \\r\\n\\r\\nለልጆቻችን የምናሲዘው ምሳቃ ሳናቀው እድሚያቸውን...        NaN  \n",
       "3  ከ HIV የተፈወሰ ሰው አጋጥሟችሁ ያቃል ? ፈውስ እና ህክምና ?\\r\\n\\...        NaN  \n",
       "4  በቅርብ ጊዜ በሃገራችን ላይ እየተስተዋለ ያለ የተመሳሳይ ፆታ ( Homos...        NaN  \n",
       "5  👇👇👇👇👇👇 https://youtu.be/-AR1KO2DbFw?si=47cXLZt...        NaN  \n",
       "6  ክረምቱን ስፖርት መስራት አስበው ጂም ለመግባት ካልቻሉ ባሉበት ቦታ ሆነው...        NaN  \n",
       "7  ስፖርት የመስራት ሱስ ይኖር ይሆን?\\r\\n\\r\\nበአሁኑ ወቅት ብዙ የስፖር...        NaN  \n",
       "8  ድንገተኛ አደጋ / የአጥንት ስብራት\\r\\n\\r\\nአያርገውና ድንገተኛ የሆነ...        NaN  \n",
       "9  ከትንሽ ግዚያት በፊት ስፖርት መስራት እንደ ቅንጦት ይታይ ነበር አሁን ላ...        NaN  "
      ]
     },
     "execution_count": 7,
     "metadata": {},
     "output_type": "execute_result"
    }
   ],
   "source": [
    "df = load_csv(\"../docs/raw/all_scraped_messages.csv\")\n",
    "\n",
    "# Show first few rows\n",
    "df.head(10)\n"
   ]
  },
  {
   "cell_type": "code",
   "execution_count": 8,
   "metadata": {},
   "outputs": [
    {
     "data": {
      "text/html": [
       "<div>\n",
       "<style scoped>\n",
       "    .dataframe tbody tr th:only-of-type {\n",
       "        vertical-align: middle;\n",
       "    }\n",
       "\n",
       "    .dataframe tbody tr th {\n",
       "        vertical-align: top;\n",
       "    }\n",
       "\n",
       "    .dataframe thead th {\n",
       "        text-align: right;\n",
       "    }\n",
       "</style>\n",
       "<table border=\"1\" class=\"dataframe\">\n",
       "  <thead>\n",
       "    <tr style=\"text-align: right;\">\n",
       "      <th></th>\n",
       "      <th>channel_title</th>\n",
       "      <th>message_id</th>\n",
       "      <th>message_date</th>\n",
       "      <th>message</th>\n",
       "      <th>media_path</th>\n",
       "      <th>emoji_used</th>\n",
       "      <th>youtube_links</th>\n",
       "    </tr>\n",
       "  </thead>\n",
       "  <tbody>\n",
       "    <tr>\n",
       "      <th>0</th>\n",
       "      <td>DoctorsET</td>\n",
       "      <td>864</td>\n",
       "      <td>2023-12-18 17:04:02</td>\n",
       "      <td>በቀን አንዴ ብቻ የሚባለው የቢዝነስ አማካሪ \\r \\r በ 10,000 ብር ...</td>\n",
       "      <td>No image</td>\n",
       "      <td>👈👈👇👇</td>\n",
       "      <td>https://youtu.be/5DBoEm-8kmA?si=LDLuEecNfULJVD...</td>\n",
       "    </tr>\n",
       "    <tr>\n",
       "      <th>1</th>\n",
       "      <td>DoctorsET</td>\n",
       "      <td>863</td>\n",
       "      <td>2023-11-03 16:14:39</td>\n",
       "      <td>ዶክተርስ ኢትዮጵያ በ አዲስ አቀራረብ በ ቴሌቪዥን ፕሮግራሙን ለመጀመር ከ...</td>\n",
       "      <td>No image</td>\n",
       "      <td>👇</td>\n",
       "      <td>https://youtu.be/gwVN5eJQpko?si=xARsSxIEdZtE91GY</td>\n",
       "    </tr>\n",
       "    <tr>\n",
       "      <th>2</th>\n",
       "      <td>DoctorsET</td>\n",
       "      <td>862</td>\n",
       "      <td>2023-10-02 16:37:39</td>\n",
       "      <td>ሞት በስኳር \\r \\r ለልጆቻችን የምናሲዘው ምሳቃ ሳናቀው እድሚያቸውን ይ...</td>\n",
       "      <td>No image</td>\n",
       "      <td>No emoji</td>\n",
       "      <td>https://youtu.be/oHiSRrNF7I0?si=Absgm414YSt_kjNq</td>\n",
       "    </tr>\n",
       "    <tr>\n",
       "      <th>3</th>\n",
       "      <td>DoctorsET</td>\n",
       "      <td>861</td>\n",
       "      <td>2023-09-16 07:54:32</td>\n",
       "      <td>ከ HIV የተፈወሰ ሰው አጋጥሟችሁ ያቃል ? ፈውስ እና ህክምና ?\\r \\r...</td>\n",
       "      <td>No image</td>\n",
       "      <td>👇👇👇👇</td>\n",
       "      <td>https://youtu.be/tTeErZxIh_Q?si=jKHyfWcC3sfXbC8L</td>\n",
       "    </tr>\n",
       "    <tr>\n",
       "      <th>4</th>\n",
       "      <td>DoctorsET</td>\n",
       "      <td>860</td>\n",
       "      <td>2023-09-01 16:16:15</td>\n",
       "      <td>በቅርብ ጊዜ በሃገራችን ላይ እየተስተዋለ ያለ የተመሳሳይ ፆታ ( Homos...</td>\n",
       "      <td>No image</td>\n",
       "      <td>No emoji</td>\n",
       "      <td>https://youtu.be/0k65P5ouw7s?si=qaUgo75bUa3AMQxD</td>\n",
       "    </tr>\n",
       "    <tr>\n",
       "      <th>5</th>\n",
       "      <td>DoctorsET</td>\n",
       "      <td>859</td>\n",
       "      <td>2023-08-29 17:20:05</td>\n",
       "      <td>**\\r ዶክተርስ ኢትዮጽያ በአዲስ ፕሮገራም ጀመረ**\\r \\r ማረጥ  (*...</td>\n",
       "      <td>No image</td>\n",
       "      <td>👇👇👇👇👇👇</td>\n",
       "      <td>https://youtu.be/-AR1KO2DbFw?si=47cXLZtlmhx1Nl...</td>\n",
       "    </tr>\n",
       "    <tr>\n",
       "      <th>6</th>\n",
       "      <td>DoctorsET</td>\n",
       "      <td>848</td>\n",
       "      <td>2022-08-02 17:42:08</td>\n",
       "      <td>ክረምቱን ስፖርት መስራት አስበው ጂም ለመግባት ካልቻሉ ባሉበት ቦታ ሆነው...</td>\n",
       "      <td>No image</td>\n",
       "      <td>👇👇👇👇👇</td>\n",
       "      <td>https://youtu.be/0uiTzjEbh90</td>\n",
       "    </tr>\n",
       "    <tr>\n",
       "      <th>7</th>\n",
       "      <td>DoctorsET</td>\n",
       "      <td>847</td>\n",
       "      <td>2022-06-12 17:15:47</td>\n",
       "      <td>ስፖርት የመስራት ሱስ ይኖር ይሆን?\\r \\r በአሁኑ ወቅት ብዙ የስፖርት ...</td>\n",
       "      <td>No image</td>\n",
       "      <td>👇👇👇👇👇👇</td>\n",
       "      <td>https://youtu.be/WPlRuRtQXN8</td>\n",
       "    </tr>\n",
       "    <tr>\n",
       "      <th>8</th>\n",
       "      <td>DoctorsET</td>\n",
       "      <td>846</td>\n",
       "      <td>2022-05-31 17:51:13</td>\n",
       "      <td>ድንገተኛ አደጋ / የአጥንት ስብራት\\r \\r አያርገውና ድንገተኛ የሆነ አ...</td>\n",
       "      <td>No image</td>\n",
       "      <td>👇👇👇👇👇👇👇</td>\n",
       "      <td>https://youtu.be/QI-8oqW80uI</td>\n",
       "    </tr>\n",
       "    <tr>\n",
       "      <th>9</th>\n",
       "      <td>DoctorsET</td>\n",
       "      <td>845</td>\n",
       "      <td>2022-05-20 18:04:53</td>\n",
       "      <td>ከትንሽ ግዚያት በፊት ስፖርት መስራት እንደ ቅንጦት ይታይ ነበር አሁን ላ...</td>\n",
       "      <td>No image</td>\n",
       "      <td>👇👇👇👇👇👇</td>\n",
       "      <td>https://youtu.be/_IEWt07bECg</td>\n",
       "    </tr>\n",
       "  </tbody>\n",
       "</table>\n",
       "</div>"
      ],
      "text/plain": [
       "  channel_title  message_id         message_date  \\\n",
       "0     DoctorsET         864  2023-12-18 17:04:02   \n",
       "1     DoctorsET         863  2023-11-03 16:14:39   \n",
       "2     DoctorsET         862  2023-10-02 16:37:39   \n",
       "3     DoctorsET         861  2023-09-16 07:54:32   \n",
       "4     DoctorsET         860  2023-09-01 16:16:15   \n",
       "5     DoctorsET         859  2023-08-29 17:20:05   \n",
       "6     DoctorsET         848  2022-08-02 17:42:08   \n",
       "7     DoctorsET         847  2022-06-12 17:15:47   \n",
       "8     DoctorsET         846  2022-05-31 17:51:13   \n",
       "9     DoctorsET         845  2022-05-20 18:04:53   \n",
       "\n",
       "                                             message media_path emoji_used  \\\n",
       "0  በቀን አንዴ ብቻ የሚባለው የቢዝነስ አማካሪ \\r \\r በ 10,000 ብር ...   No image       👈👈👇👇   \n",
       "1  ዶክተርስ ኢትዮጵያ በ አዲስ አቀራረብ በ ቴሌቪዥን ፕሮግራሙን ለመጀመር ከ...   No image          👇   \n",
       "2  ሞት በስኳር \\r \\r ለልጆቻችን የምናሲዘው ምሳቃ ሳናቀው እድሚያቸውን ይ...   No image   No emoji   \n",
       "3  ከ HIV የተፈወሰ ሰው አጋጥሟችሁ ያቃል ? ፈውስ እና ህክምና ?\\r \\r...   No image       👇👇👇👇   \n",
       "4  በቅርብ ጊዜ በሃገራችን ላይ እየተስተዋለ ያለ የተመሳሳይ ፆታ ( Homos...   No image   No emoji   \n",
       "5  **\\r ዶክተርስ ኢትዮጽያ በአዲስ ፕሮገራም ጀመረ**\\r \\r ማረጥ  (*...   No image     👇👇👇👇👇👇   \n",
       "6  ክረምቱን ስፖርት መስራት አስበው ጂም ለመግባት ካልቻሉ ባሉበት ቦታ ሆነው...   No image      👇👇👇👇👇   \n",
       "7  ስፖርት የመስራት ሱስ ይኖር ይሆን?\\r \\r በአሁኑ ወቅት ብዙ የስፖርት ...   No image     👇👇👇👇👇👇   \n",
       "8  ድንገተኛ አደጋ / የአጥንት ስብራት\\r \\r አያርገውና ድንገተኛ የሆነ አ...   No image    👇👇👇👇👇👇👇   \n",
       "9  ከትንሽ ግዚያት በፊት ስፖርት መስራት እንደ ቅንጦት ይታይ ነበር አሁን ላ...   No image     👇👇👇👇👇👇   \n",
       "\n",
       "                                       youtube_links  \n",
       "0  https://youtu.be/5DBoEm-8kmA?si=LDLuEecNfULJVD...  \n",
       "1   https://youtu.be/gwVN5eJQpko?si=xARsSxIEdZtE91GY  \n",
       "2   https://youtu.be/oHiSRrNF7I0?si=Absgm414YSt_kjNq  \n",
       "3   https://youtu.be/tTeErZxIh_Q?si=jKHyfWcC3sfXbC8L  \n",
       "4   https://youtu.be/0k65P5ouw7s?si=qaUgo75bUa3AMQxD  \n",
       "5  https://youtu.be/-AR1KO2DbFw?si=47cXLZtlmhx1Nl...  \n",
       "6                       https://youtu.be/0uiTzjEbh90  \n",
       "7                       https://youtu.be/WPlRuRtQXN8  \n",
       "8                       https://youtu.be/QI-8oqW80uI  \n",
       "9                       https://youtu.be/_IEWt07bECg  "
      ]
     },
     "execution_count": 8,
     "metadata": {},
     "output_type": "execute_result"
    }
   ],
   "source": [
    "df_cleaned = clean_dataframe(df)\n",
    "\n",
    "# Display cleaned dataset\n",
    "df_cleaned.head(10)"
   ]
  },
  {
   "cell_type": "markdown",
   "metadata": {},
   "source": [
    "> # Check for missing values in the cleaned DataFrame"
   ]
  },
  {
   "cell_type": "code",
   "execution_count": 9,
   "metadata": {},
   "outputs": [
    {
     "data": {
      "text/plain": [
       "Series([], dtype: int64)"
      ]
     },
     "execution_count": 9,
     "metadata": {},
     "output_type": "execute_result"
    }
   ],
   "source": [
    "\n",
    "missing_values = df_cleaned.isnull().sum()\n",
    "missing_values[missing_values > 0]  # Display only columns with missing values\n"
   ]
  },
  {
   "cell_type": "markdown",
   "metadata": {},
   "source": [
    "> ### The Datasets have no missing values"
   ]
  },
  {
   "cell_type": "markdown",
   "metadata": {},
   "source": [
    "> # Save cleaned data to CSV\n"
   ]
  },
  {
   "cell_type": "code",
   "execution_count": 10,
   "metadata": {},
   "outputs": [
    {
     "name": "stdout",
     "output_type": "stream",
     "text": [
      "✅ Cleaned data saved successfully to '../docs/cleaned_data.csv'.\n"
     ]
    }
   ],
   "source": [
    "df_cleaned.to_csv(\"../docs/cleaned.csv\", index=False)\n",
    "print(\"✅ Cleaned data saved successfully to '../docs/cleaned_data.csv'.\")\n"
   ]
  },
  {
   "cell_type": "markdown",
   "metadata": {},
   "source": [
    "## Connect to Database"
   ]
  },
  {
   "cell_type": "code",
   "execution_count": 11,
   "metadata": {},
   "outputs": [],
   "source": [
    "from scripts.database_setup import get_db_connection, create_table, insert_data\n"
   ]
  },
  {
   "cell_type": "code",
   "execution_count": 12,
   "metadata": {},
   "outputs": [],
   "source": [
    "engine = get_db_connection()"
   ]
  },
  {
   "cell_type": "markdown",
   "metadata": {},
   "source": [
    "###  Create Table in PostgreSQL"
   ]
  },
  {
   "cell_type": "code",
   "execution_count": 13,
   "metadata": {},
   "outputs": [],
   "source": [
    "create_table(engine)"
   ]
  }
 ],
 "metadata": {
  "kernelspec": {
   "display_name": ".week-7",
   "language": "python",
   "name": "python3"
  },
  "language_info": {
   "codemirror_mode": {
    "name": "ipython",
    "version": 3
   },
   "file_extension": ".py",
   "mimetype": "text/x-python",
   "name": "python",
   "nbconvert_exporter": "python",
   "pygments_lexer": "ipython3",
   "version": "3.11.2"
  }
 },
 "nbformat": 4,
 "nbformat_minor": 2
}
