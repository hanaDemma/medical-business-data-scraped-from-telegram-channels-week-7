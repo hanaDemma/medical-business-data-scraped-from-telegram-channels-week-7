{
 "cells": [
  {
   "cell_type": "code",
   "execution_count": 1,
   "metadata": {},
   "outputs": [],
   "source": [
    "import pandas as pd\n",
    "import logging\n",
    "import os\n",
    "import sys\n",
    "sys.path.append('../')\n",
    "\n",
    "from dotenv import load_dotenv\n",
    "load_dotenv()\n",
    "\n",
    "import sys\n",
    "sys.path.append('../')"
   ]
  },
  {
   "cell_type": "markdown",
   "metadata": {},
   "source": [
    "> # Creating a data warehouse for Ethiopian medical business data scraped from Telegram channels"
   ]
  },
  {
   "cell_type": "markdown",
   "metadata": {},
   "source": [
    "> # Telegram Access keys"
   ]
  },
  {
   "cell_type": "code",
   "execution_count": 2,
   "metadata": {},
   "outputs": [],
   "source": [
    "api_id = os.getenv('TELEGRAM_API_ID')\n",
    "api_hash = os.getenv('TELEGRAM_API_HASH')\n",
    "phone = os.getenv('TELEGRAM_PHONE')"
   ]
  },
  {
   "cell_type": "code",
   "execution_count": 3,
   "metadata": {},
   "outputs": [],
   "source": [
    "\n",
    "logging.basicConfig(filename='../logs/scraping.log', level=logging.INFO, \n",
    "                    format='%(asctime)s:%(levelname)s:%(message)s')\n",
    "\n",
    "RAW_DATA_PATH = '../docs/raw/'\n",
    "IMAGE_DATA_PATH = '../docs/images/'"
   ]
  },
  {
   "cell_type": "markdown",
   "metadata": {},
   "source": [
    "> # Scrapping"
   ]
  },
  {
   "cell_type": "code",
   "execution_count": 5,
   "metadata": {},
   "outputs": [
    {
     "name": "stdout",
     "output_type": "stream",
     "text": [
      "Signed in successfully as Nani; remember to not break the ToS or you will risk an account ban!\n"
     ]
    }
   ],
   "source": [
    "import asyncio\n",
    "from scripts.scrapping import scrapping\n",
    "async def main():\n",
    "    await scrapping(logging, api_id, api_hash, RAW_DATA_PATH, IMAGE_DATA_PATH)\n",
    "\n",
    "await main()\n"
   ]
  },
  {
   "cell_type": "markdown",
   "metadata": {},
   "source": [
    ">> ## Scrapped Data"
   ]
  },
  {
   "cell_type": "code",
   "execution_count": 6,
   "metadata": {},
   "outputs": [
    {
     "data": {
      "text/html": [
       "<div>\n",
       "<style scoped>\n",
       "    .dataframe tbody tr th:only-of-type {\n",
       "        vertical-align: middle;\n",
       "    }\n",
       "\n",
       "    .dataframe tbody tr th {\n",
       "        vertical-align: top;\n",
       "    }\n",
       "\n",
       "    .dataframe thead th {\n",
       "        text-align: right;\n",
       "    }\n",
       "</style>\n",
       "<table border=\"1\" class=\"dataframe\">\n",
       "  <thead>\n",
       "    <tr style=\"text-align: right;\">\n",
       "      <th></th>\n",
       "      <th>channel_name</th>\n",
       "      <th>message_id</th>\n",
       "      <th>date</th>\n",
       "      <th>text</th>\n",
       "      <th>image_path</th>\n",
       "    </tr>\n",
       "  </thead>\n",
       "  <tbody>\n",
       "    <tr>\n",
       "      <th>10</th>\n",
       "      <td>CheMed123</td>\n",
       "      <td>97</td>\n",
       "      <td>2023-02-10 12:23:06</td>\n",
       "      <td>⚠️**Notice!\\n**Dear esteemed customers,\\nDue t...</td>\n",
       "      <td>../docs/images\\photo_2025-01-31_09-39-51.jpg</td>\n",
       "    </tr>\n",
       "    <tr>\n",
       "      <th>11</th>\n",
       "      <td>CheMed123</td>\n",
       "      <td>96</td>\n",
       "      <td>2023-02-02 08:58:52</td>\n",
       "      <td>Mela-One በውስጡ ሆርሞን ያለው ድንገተኛ ወሊድ መቆጣጠርያ ሲሆን ያለ...</td>\n",
       "      <td>../docs/images\\photo_2025-01-31_09-39-52.jpg</td>\n",
       "    </tr>\n",
       "    <tr>\n",
       "      <th>12</th>\n",
       "      <td>CheMed123</td>\n",
       "      <td>95</td>\n",
       "      <td>2023-02-01 08:59:37</td>\n",
       "      <td>**አዚትሮማይሲን** በሃኪም መድሃኒት ማዘዣ ከሚታዘዙ አንቲባዮቲኮች አንዱ...</td>\n",
       "      <td>../docs/images\\photo_2025-01-31_09-39-52 (1).jpg</td>\n",
       "    </tr>\n",
       "    <tr>\n",
       "      <th>13</th>\n",
       "      <td>CheMed123</td>\n",
       "      <td>94</td>\n",
       "      <td>2023-01-31 09:19:53</td>\n",
       "      <td>**Che-Med Trivia #3\\n\\n**ምግብና መጠጦች አንዳንድ መድሃኒቶ...</td>\n",
       "      <td>../docs/images\\photo_2025-01-31_09-39-53.jpg</td>\n",
       "    </tr>\n",
       "    <tr>\n",
       "      <th>14</th>\n",
       "      <td>CheMed123</td>\n",
       "      <td>93</td>\n",
       "      <td>2023-01-30 09:45:25</td>\n",
       "      <td>**Che-Med Trivia #2\\n\\n**እንደ Ciprofloxacin, Do...</td>\n",
       "      <td>../docs/images\\photo_2025-01-31_09-39-53 (1).jpg</td>\n",
       "    </tr>\n",
       "  </tbody>\n",
       "</table>\n",
       "</div>"
      ],
      "text/plain": [
       "   channel_name  message_id                 date  \\\n",
       "10    CheMed123          97  2023-02-10 12:23:06   \n",
       "11    CheMed123          96  2023-02-02 08:58:52   \n",
       "12    CheMed123          95  2023-02-01 08:59:37   \n",
       "13    CheMed123          94  2023-01-31 09:19:53   \n",
       "14    CheMed123          93  2023-01-30 09:45:25   \n",
       "\n",
       "                                                 text  \\\n",
       "10  ⚠️**Notice!\\n**Dear esteemed customers,\\nDue t...   \n",
       "11  Mela-One በውስጡ ሆርሞን ያለው ድንገተኛ ወሊድ መቆጣጠርያ ሲሆን ያለ...   \n",
       "12  **አዚትሮማይሲን** በሃኪም መድሃኒት ማዘዣ ከሚታዘዙ አንቲባዮቲኮች አንዱ...   \n",
       "13  **Che-Med Trivia #3\\n\\n**ምግብና መጠጦች አንዳንድ መድሃኒቶ...   \n",
       "14  **Che-Med Trivia #2\\n\\n**እንደ Ciprofloxacin, Do...   \n",
       "\n",
       "                                          image_path  \n",
       "10      ../docs/images\\photo_2025-01-31_09-39-51.jpg  \n",
       "11      ../docs/images\\photo_2025-01-31_09-39-52.jpg  \n",
       "12  ../docs/images\\photo_2025-01-31_09-39-52 (1).jpg  \n",
       "13      ../docs/images\\photo_2025-01-31_09-39-53.jpg  \n",
       "14  ../docs/images\\photo_2025-01-31_09-39-53 (1).jpg  "
      ]
     },
     "execution_count": 6,
     "metadata": {},
     "output_type": "execute_result"
    }
   ],
   "source": [
    "data = pd.read_csv('../docs/raw/all_scraped_messages.csv')\n",
    "data[data['channel_name']=='CheMed123'].head()"
   ]
  }
 ],
 "metadata": {
  "kernelspec": {
   "display_name": ".week-7",
   "language": "python",
   "name": "python3"
  },
  "language_info": {
   "codemirror_mode": {
    "name": "ipython",
    "version": 3
   },
   "file_extension": ".py",
   "mimetype": "text/x-python",
   "name": "python",
   "nbconvert_exporter": "python",
   "pygments_lexer": "ipython3",
   "version": "3.11.2"
  }
 },
 "nbformat": 4,
 "nbformat_minor": 2
}
